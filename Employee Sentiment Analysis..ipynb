{
 "cells": [
  {
   "cell_type": "markdown",
   "id": "138120a1-bfd3-467b-b733-cc805281a749",
   "metadata": {},
   "source": [
    "#   Employee Sentiment Analysis (Final LLM Assessment Project)"
   ]
  },
  {
   "cell_type": "markdown",
   "id": "dd100f72-5f07-4dea-8cad-108bd3559560",
   "metadata": {},
   "source": [
    "**Import Libraries and Load Data**"
   ]
  },
  {
   "cell_type": "code",
   "execution_count": 76,
   "id": "cac9875c-3560-4214-99d8-df6501118ddc",
   "metadata": {},
   "outputs": [
    {
     "name": "stdout",
     "output_type": "stream",
     "text": [
      "<class 'pandas.core.frame.DataFrame'>\n",
      "RangeIndex: 2191 entries, 0 to 2190\n",
      "Data columns (total 4 columns):\n",
      " #   Column   Non-Null Count  Dtype \n",
      "---  ------   --------------  ----- \n",
      " 0   Subject  2191 non-null   object\n",
      " 1   body     2191 non-null   object\n",
      " 2   date     2191 non-null   object\n",
      " 3   from     2191 non-null   object\n",
      "dtypes: object(4)\n",
      "memory usage: 68.6+ KB\n"
     ]
    },
    {
     "data": {
      "text/html": [
       "<div>\n",
       "<style scoped>\n",
       "    .dataframe tbody tr th:only-of-type {\n",
       "        vertical-align: middle;\n",
       "    }\n",
       "\n",
       "    .dataframe tbody tr th {\n",
       "        vertical-align: top;\n",
       "    }\n",
       "\n",
       "    .dataframe thead th {\n",
       "        text-align: right;\n",
       "    }\n",
       "</style>\n",
       "<table border=\"1\" class=\"dataframe\">\n",
       "  <thead>\n",
       "    <tr style=\"text-align: right;\">\n",
       "      <th></th>\n",
       "      <th>Subject</th>\n",
       "      <th>body</th>\n",
       "      <th>date</th>\n",
       "      <th>from</th>\n",
       "    </tr>\n",
       "  </thead>\n",
       "  <tbody>\n",
       "    <tr>\n",
       "      <th>0</th>\n",
       "      <td>EnronOptions Update!</td>\n",
       "      <td>EnronOptions Announcement\\n\\n\\nWe have updated...</td>\n",
       "      <td>5/10/2010</td>\n",
       "      <td>sally.beck@enron.com</td>\n",
       "    </tr>\n",
       "    <tr>\n",
       "      <th>1</th>\n",
       "      <td>(No Subject)</td>\n",
       "      <td>Marc,\\n\\nUnfortunately, today is not going to ...</td>\n",
       "      <td>7/29/2010</td>\n",
       "      <td>eric.bass@enron.com</td>\n",
       "    </tr>\n",
       "    <tr>\n",
       "      <th>2</th>\n",
       "      <td>Phone Screen  Interview - Shannon L. Burnham</td>\n",
       "      <td>When: Wednesday, June 06, 2001 10:00 AM-11:00 ...</td>\n",
       "      <td>7/25/2011</td>\n",
       "      <td>sally.beck@enron.com</td>\n",
       "    </tr>\n",
       "    <tr>\n",
       "      <th>3</th>\n",
       "      <td>RE: My new work email</td>\n",
       "      <td>we were thinking papasitos (we can meet somewh...</td>\n",
       "      <td>3/25/2010</td>\n",
       "      <td>johnny.palmer@enron.com</td>\n",
       "    </tr>\n",
       "    <tr>\n",
       "      <th>4</th>\n",
       "      <td>Bet</td>\n",
       "      <td>Since you never gave me the $20 for the last t...</td>\n",
       "      <td>5/21/2011</td>\n",
       "      <td>lydia.delgado@enron.com</td>\n",
       "    </tr>\n",
       "  </tbody>\n",
       "</table>\n",
       "</div>"
      ],
      "text/plain": [
       "                                        Subject  \\\n",
       "0                          EnronOptions Update!   \n",
       "1                                  (No Subject)   \n",
       "2  Phone Screen  Interview - Shannon L. Burnham   \n",
       "3                         RE: My new work email   \n",
       "4                                           Bet   \n",
       "\n",
       "                                                body       date  \\\n",
       "0  EnronOptions Announcement\\n\\n\\nWe have updated...  5/10/2010   \n",
       "1  Marc,\\n\\nUnfortunately, today is not going to ...  7/29/2010   \n",
       "2  When: Wednesday, June 06, 2001 10:00 AM-11:00 ...  7/25/2011   \n",
       "3  we were thinking papasitos (we can meet somewh...  3/25/2010   \n",
       "4  Since you never gave me the $20 for the last t...  5/21/2011   \n",
       "\n",
       "                      from  \n",
       "0     sally.beck@enron.com  \n",
       "1      eric.bass@enron.com  \n",
       "2     sally.beck@enron.com  \n",
       "3  johnny.palmer@enron.com  \n",
       "4  lydia.delgado@enron.com  "
      ]
     },
     "execution_count": 76,
     "metadata": {},
     "output_type": "execute_result"
    }
   ],
   "source": [
    "# Importing required libraries\n",
    "\n",
    "\n",
    "import pandas as pd\n",
    "import numpy as np\n",
    "import matplotlib.pyplot as plt\n",
    "import seaborn as sns\n",
    "from textblob import TextBlob\n",
    "from sklearn.linear_model import LinearRegression\n",
    "from sklearn.model_selection import train_test_split\n",
    "\n",
    "\n",
    "\n",
    "# Load the dataset\n",
    "\n",
    "\n",
    "df = pd.read_csv('C:\\\\Users\\\\Public\\\\Downloads\\\\test(in).csv')\n",
    "df.head()\n",
    "df.info()\n",
    "df.head()"
   ]
  },
  {
   "cell_type": "code",
   "execution_count": null,
   "id": "fba5b67f-06a1-4043-90b0-c881e8293469",
   "metadata": {},
   "outputs": [],
   "source": []
  },
  {
   "cell_type": "markdown",
   "id": "29f31b6b-e6cd-4406-a1f0-906256484ccd",
   "metadata": {},
   "source": [
    "#  Sentiment Labeling (Task 1)\n",
    "**In this section, we label each message as Positive, Neutral, or Negative using TextBlob**"
   ]
  },
  {
   "cell_type": "code",
   "execution_count": 84,
   "id": "f52a8387-c22a-42cb-9f19-b0c9ed80528e",
   "metadata": {},
   "outputs": [
    {
     "name": "stdout",
     "output_type": "stream",
     "text": [
      "Requirement already satisfied: textblob in c:\\users\\dell\\anaconda3\\lib\\site-packages (0.19.0)\n",
      "Requirement already satisfied: nltk>=3.9 in c:\\users\\dell\\anaconda3\\lib\\site-packages (from textblob) (3.9.1)\n",
      "Requirement already satisfied: click in c:\\users\\dell\\anaconda3\\lib\\site-packages (from nltk>=3.9->textblob) (8.1.7)\n",
      "Requirement already satisfied: joblib in c:\\users\\dell\\anaconda3\\lib\\site-packages (from nltk>=3.9->textblob) (1.4.2)\n",
      "Requirement already satisfied: regex>=2021.8.3 in c:\\users\\dell\\anaconda3\\lib\\site-packages (from nltk>=3.9->textblob) (2024.9.11)\n",
      "Requirement already satisfied: tqdm in c:\\users\\dell\\anaconda3\\lib\\site-packages (from nltk>=3.9->textblob) (4.66.5)\n",
      "Requirement already satisfied: colorama in c:\\users\\dell\\anaconda3\\lib\\site-packages (from click->nltk>=3.9->textblob) (0.4.6)\n"
     ]
    }
   ],
   "source": [
    "                           # Step 1: Install TextBlob\n",
    "!pip install textblob\n",
    "\n",
    "\n",
    "\n",
    "                           # Step 2: Import\n",
    "\n",
    "from textblob import TextBlob\n",
    "\n",
    "\n",
    "                         # Step 3: Define classification function\n",
    "\n",
    "\n",
    "def classify_sentiment(text):\n",
    "    polarity = TextBlob(text).sentiment.polarity\n",
    "    if polarity > 0.05:\n",
    "        return 'POSITIVE'\n",
    "    elif polarity < -0.05:\n",
    "        return 'NEGATIVE'\n",
    "    else:\n",
    "        return 'NEUTRAL'\n",
    "\n",
    "\n",
    "                          # Step 4: Apply to your \n",
    "\n",
    "df['Sentiment'] = df['body'].apply(classify_sentiment)\n",
    "\n",
    "                         # Step 5: Save to CSV\n",
    "df.to_csv(\"labeled_emails.csv\", index=False)\n"
   ]
  },
  {
   "cell_type": "markdown",
   "id": "3f39351c-e326-4a71-a9ba-c82edf92a168",
   "metadata": {},
   "source": [
    "**Result: A new sentiment column is added showing Positive, Negative, or Neutral.**"
   ]
  },
  {
   "cell_type": "code",
   "execution_count": 43,
   "id": "22eec28c-1ec0-4d61-98c2-258b44e44727",
   "metadata": {},
   "outputs": [
    {
     "data": {
      "text/html": [
       "<div>\n",
       "<style scoped>\n",
       "    .dataframe tbody tr th:only-of-type {\n",
       "        vertical-align: middle;\n",
       "    }\n",
       "\n",
       "    .dataframe tbody tr th {\n",
       "        vertical-align: top;\n",
       "    }\n",
       "\n",
       "    .dataframe thead th {\n",
       "        text-align: right;\n",
       "    }\n",
       "</style>\n",
       "<table border=\"1\" class=\"dataframe\">\n",
       "  <thead>\n",
       "    <tr style=\"text-align: right;\">\n",
       "      <th></th>\n",
       "      <th>Subject</th>\n",
       "      <th>body</th>\n",
       "      <th>date</th>\n",
       "      <th>from</th>\n",
       "      <th>Sentiment</th>\n",
       "    </tr>\n",
       "  </thead>\n",
       "  <tbody>\n",
       "    <tr>\n",
       "      <th>0</th>\n",
       "      <td>EnronOptions Update!</td>\n",
       "      <td>EnronOptions Announcement\\n\\n\\nWe have updated...</td>\n",
       "      <td>5/10/2010</td>\n",
       "      <td>sally.beck@enron.com</td>\n",
       "      <td>POSITIVE</td>\n",
       "    </tr>\n",
       "    <tr>\n",
       "      <th>1</th>\n",
       "      <td>(No Subject)</td>\n",
       "      <td>Marc,\\n\\nUnfortunately, today is not going to ...</td>\n",
       "      <td>7/29/2010</td>\n",
       "      <td>eric.bass@enron.com</td>\n",
       "      <td>NEUTRAL</td>\n",
       "    </tr>\n",
       "    <tr>\n",
       "      <th>2</th>\n",
       "      <td>Phone Screen  Interview - Shannon L. Burnham</td>\n",
       "      <td>When: Wednesday, June 06, 2001 10:00 AM-11:00 ...</td>\n",
       "      <td>7/25/2011</td>\n",
       "      <td>sally.beck@enron.com</td>\n",
       "      <td>NEUTRAL</td>\n",
       "    </tr>\n",
       "    <tr>\n",
       "      <th>3</th>\n",
       "      <td>RE: My new work email</td>\n",
       "      <td>we were thinking papasitos (we can meet somewh...</td>\n",
       "      <td>3/25/2010</td>\n",
       "      <td>johnny.palmer@enron.com</td>\n",
       "      <td>NEGATIVE</td>\n",
       "    </tr>\n",
       "    <tr>\n",
       "      <th>4</th>\n",
       "      <td>Bet</td>\n",
       "      <td>Since you never gave me the $20 for the last t...</td>\n",
       "      <td>5/21/2011</td>\n",
       "      <td>lydia.delgado@enron.com</td>\n",
       "      <td>NEUTRAL</td>\n",
       "    </tr>\n",
       "  </tbody>\n",
       "</table>\n",
       "</div>"
      ],
      "text/plain": [
       "                                        Subject  \\\n",
       "0                          EnronOptions Update!   \n",
       "1                                  (No Subject)   \n",
       "2  Phone Screen  Interview - Shannon L. Burnham   \n",
       "3                         RE: My new work email   \n",
       "4                                           Bet   \n",
       "\n",
       "                                                body       date  \\\n",
       "0  EnronOptions Announcement\\n\\n\\nWe have updated...  5/10/2010   \n",
       "1  Marc,\\n\\nUnfortunately, today is not going to ...  7/29/2010   \n",
       "2  When: Wednesday, June 06, 2001 10:00 AM-11:00 ...  7/25/2011   \n",
       "3  we were thinking papasitos (we can meet somewh...  3/25/2010   \n",
       "4  Since you never gave me the $20 for the last t...  5/21/2011   \n",
       "\n",
       "                      from Sentiment  \n",
       "0     sally.beck@enron.com  POSITIVE  \n",
       "1      eric.bass@enron.com   NEUTRAL  \n",
       "2     sally.beck@enron.com   NEUTRAL  \n",
       "3  johnny.palmer@enron.com  NEGATIVE  \n",
       "4  lydia.delgado@enron.com   NEUTRAL  "
      ]
     },
     "execution_count": 43,
     "metadata": {},
     "output_type": "execute_result"
    }
   ],
   "source": [
    "df.head()"
   ]
  },
  {
   "cell_type": "markdown",
   "id": "a47f35fd-c258-4ff6-aa60-d474811ec061",
   "metadata": {},
   "source": [
    "### Sentiment Labeling Justification and Reproducibility\n",
    "\n",
    "To label employee sentiments as **Positive**, **Negative**, or **Neutral**, we used the `TextBlob` library to compute sentiment polarity scores for each message.\n",
    "\n",
    "#### Justification:\n",
    "- `TextBlob` returns a polarity score ranging from **-1.0 (very negative)** to **+1.0 (very positive)**.\n",
    "- Based on the score:\n",
    "  - **Polarity > 0.1** → Labeled as **Positive**\n",
    "  - **Polarity < -0.1** → Labeled as **Negative**\n",
    "  - **Polarity between -0.1 and 0.1** → Labeled as **Neutral**\n",
    "- These thresholds were chosen to ensure a clear margin for neutral classification, avoiding false positives/negatives for borderline messages.\n",
    "\n",
    "#### Reproducibility:\n",
    "- All labeling is done using code with the same rules applied across the dataset.\n",
    "\n",
    "\n",
    "This approach avoids subjective manual labeling and ensures an unbiased, systematic method to assess employee sentiment.\n"
   ]
  },
  {
   "cell_type": "markdown",
   "id": "fbc56356-6cb7-457a-b16c-b31536a1df7e",
   "metadata": {},
   "source": [
    "##  Exploratory Data Analysis (EDA) Task -2"
   ]
  },
  {
   "cell_type": "markdown",
   "id": "d430cbdf-780e-43e2-a2fc-0b8fcef611d8",
   "metadata": {},
   "source": [
    "### Dataset Overview\n",
    "\n",
    "We begin by inspecting the dataset's structure: the number of rows and columns, data types, and null values. This helps identify missing data and appropriate preprocessing steps"
   ]
  },
  {
   "cell_type": "code",
   "execution_count": 16,
   "id": "a3cf9be3-2643-457c-b0ef-61b8ef3bb726",
   "metadata": {},
   "outputs": [
    {
     "name": "stdout",
     "output_type": "stream",
     "text": [
      "<class 'pandas.core.frame.DataFrame'>\n",
      "RangeIndex: 2191 entries, 0 to 2190\n",
      "Data columns (total 5 columns):\n",
      " #   Column     Non-Null Count  Dtype \n",
      "---  ------     --------------  ----- \n",
      " 0   Subject    2191 non-null   object\n",
      " 1   body       2191 non-null   object\n",
      " 2   date       2191 non-null   object\n",
      " 3   from       2191 non-null   object\n",
      " 4   Sentiment  2191 non-null   object\n",
      "dtypes: object(5)\n",
      "memory usage: 85.7+ KB\n"
     ]
    },
    {
     "data": {
      "text/html": [
       "<div>\n",
       "<style scoped>\n",
       "    .dataframe tbody tr th:only-of-type {\n",
       "        vertical-align: middle;\n",
       "    }\n",
       "\n",
       "    .dataframe tbody tr th {\n",
       "        vertical-align: top;\n",
       "    }\n",
       "\n",
       "    .dataframe thead th {\n",
       "        text-align: right;\n",
       "    }\n",
       "</style>\n",
       "<table border=\"1\" class=\"dataframe\">\n",
       "  <thead>\n",
       "    <tr style=\"text-align: right;\">\n",
       "      <th></th>\n",
       "      <th>Subject</th>\n",
       "      <th>body</th>\n",
       "      <th>date</th>\n",
       "      <th>from</th>\n",
       "      <th>Sentiment</th>\n",
       "    </tr>\n",
       "  </thead>\n",
       "  <tbody>\n",
       "    <tr>\n",
       "      <th>0</th>\n",
       "      <td>EnronOptions Update!</td>\n",
       "      <td>EnronOptions Announcement\\n\\n\\nWe have updated...</td>\n",
       "      <td>5/10/2010</td>\n",
       "      <td>sally.beck@enron.com</td>\n",
       "      <td>POSITIVE</td>\n",
       "    </tr>\n",
       "    <tr>\n",
       "      <th>1</th>\n",
       "      <td>(No Subject)</td>\n",
       "      <td>Marc,\\n\\nUnfortunately, today is not going to ...</td>\n",
       "      <td>7/29/2010</td>\n",
       "      <td>eric.bass@enron.com</td>\n",
       "      <td>NEUTRAL</td>\n",
       "    </tr>\n",
       "    <tr>\n",
       "      <th>2</th>\n",
       "      <td>Phone Screen  Interview - Shannon L. Burnham</td>\n",
       "      <td>When: Wednesday, June 06, 2001 10:00 AM-11:00 ...</td>\n",
       "      <td>7/25/2011</td>\n",
       "      <td>sally.beck@enron.com</td>\n",
       "      <td>NEUTRAL</td>\n",
       "    </tr>\n",
       "    <tr>\n",
       "      <th>3</th>\n",
       "      <td>RE: My new work email</td>\n",
       "      <td>we were thinking papasitos (we can meet somewh...</td>\n",
       "      <td>3/25/2010</td>\n",
       "      <td>johnny.palmer@enron.com</td>\n",
       "      <td>NEGATIVE</td>\n",
       "    </tr>\n",
       "    <tr>\n",
       "      <th>4</th>\n",
       "      <td>Bet</td>\n",
       "      <td>Since you never gave me the $20 for the last t...</td>\n",
       "      <td>5/21/2011</td>\n",
       "      <td>lydia.delgado@enron.com</td>\n",
       "      <td>NEUTRAL</td>\n",
       "    </tr>\n",
       "  </tbody>\n",
       "</table>\n",
       "</div>"
      ],
      "text/plain": [
       "                                        Subject  \\\n",
       "0                          EnronOptions Update!   \n",
       "1                                  (No Subject)   \n",
       "2  Phone Screen  Interview - Shannon L. Burnham   \n",
       "3                         RE: My new work email   \n",
       "4                                           Bet   \n",
       "\n",
       "                                                body       date  \\\n",
       "0  EnronOptions Announcement\\n\\n\\nWe have updated...  5/10/2010   \n",
       "1  Marc,\\n\\nUnfortunately, today is not going to ...  7/29/2010   \n",
       "2  When: Wednesday, June 06, 2001 10:00 AM-11:00 ...  7/25/2011   \n",
       "3  we were thinking papasitos (we can meet somewh...  3/25/2010   \n",
       "4  Since you never gave me the $20 for the last t...  5/21/2011   \n",
       "\n",
       "                      from Sentiment  \n",
       "0     sally.beck@enron.com  POSITIVE  \n",
       "1      eric.bass@enron.com   NEUTRAL  \n",
       "2     sally.beck@enron.com   NEUTRAL  \n",
       "3  johnny.palmer@enron.com  NEGATIVE  \n",
       "4  lydia.delgado@enron.com   NEUTRAL  "
      ]
     },
     "execution_count": 16,
     "metadata": {},
     "output_type": "execute_result"
    }
   ],
   "source": [
    "# Basic info\n",
    "df.info()\n",
    "\n",
    "# Summary statistics\n",
    "df.describe(include='all')\n",
    "\n",
    "# Preview dataset\n",
    "df.head()\n"
   ]
  },
  {
   "cell_type": "markdown",
   "id": "87ba0261-cec6-4841-ab21-e54326e6ba0e",
   "metadata": {},
   "source": [
    "### Missing Values and Data Types\n",
    "\n",
    "This section checks for missing values and ensures columns like dates are in the correct format.\n"
   ]
  },
  {
   "cell_type": "code",
   "execution_count": 18,
   "id": "dc512fbe-4c4d-4246-bae0-fd1db83f99e0",
   "metadata": {},
   "outputs": [
    {
     "data": {
      "text/plain": [
       "Subject      object\n",
       "body         object\n",
       "date         object\n",
       "from         object\n",
       "Sentiment    object\n",
       "dtype: object"
      ]
     },
     "execution_count": 18,
     "metadata": {},
     "output_type": "execute_result"
    }
   ],
   "source": [
    "# Count missing values per column\n",
    "\n",
    "df.isnull().sum()\n",
    "\n",
    "# Data type overview\n",
    "\n",
    "df.dtypes\n"
   ]
  },
  {
   "cell_type": "markdown",
   "id": "ab58ee84-1bd0-416b-8122-ccf345e1316e",
   "metadata": {},
   "source": [
    "### Sentiment Label Distribution\n",
    "\n",
    "We analyze how the sentiment labels (Positive, Negative, Neutral) are distributed across the dataset.\n"
   ]
  },
  {
   "cell_type": "code",
   "execution_count": 14,
   "id": "4586d0ff-d777-4a15-8201-4ab95ed06802",
   "metadata": {},
   "outputs": [
    {
     "data": {
      "image/png": "[encoded data removed]",
      "text/plain": [
       "<Figure size 640x480 with 1 Axes>"
      ]
     },
     "metadata": {},
     "output_type": "display_data"
    }
   ],
   "source": [
    "import matplotlib.pyplot as plt\n",
    "import seaborn as sns\n",
    "\n",
    "# Count of each sentiment\n",
    "sns.countplot(data=df, x='Sentiment', hue='Sentiment', palette='Set2', legend=False)\n",
    "\n",
    "plt.title(\"Sentiment Distribution\")\n",
    "plt.xlabel(\"Sentiment\")\n",
    "plt.ylabel(\"Count\")\n",
    "plt.show()"
   ]
  },
  {
   "cell_type": "markdown",
   "id": "f80e4471-79f7-4705-b35e-1bcf0346e430",
   "metadata": {},
   "source": [
    "###  EDA Insight: Sentiment Distribution\n",
    "\n",
    "The countplot shows that most employee messages are [Neutral/Positive/Negative] based on the distribution.\n",
    "\n",
    "This insight is important because it sets the baseline for sentiment trends. If a majority are negative, we expect higher flight risk flags. If mostly positive, engagement is likely high.\n",
    "\n",
    "This also helps verify if our labeling method is working as expected (balanced vs. skewed).\n"
   ]
  },
  {
   "cell_type": "markdown",
   "id": "d0c502af-0a37-4078-8339-8294019587ca",
   "metadata": {},
   "source": [
    "**Result: Visualizes how many messages are positive, negative, or neutral.**"
   ]
  },
  {
   "cell_type": "markdown",
   "id": "f6e585d4-61f1-415c-8a6f-a64c10d63be3",
   "metadata": {},
   "source": [
    "### Sentiment Trends Over Time\n",
    "\n",
    "This time-series plot helps us understand how employee sentiment evolves over time and detect periods of high or low morale.\n"
   ]
  },
  {
   "cell_type": "code",
   "execution_count": 23,
   "id": "1e5ff5d5-3f40-41c1-b76f-5566847a6a5b",
   "metadata": {},
   "outputs": [],
   "source": [
    "df['date'] = pd.to_datetime(df['date'])"
   ]
  },
  {
   "cell_type": "code",
   "execution_count": 27,
   "id": "21eda800-d9fe-4f27-93e4-aff1813a854f",
   "metadata": {},
   "outputs": [
    {
     "data": {
      "image/png": "[encoded data removed]",
      "text/plain": [
       "<Figure size 1200x600 with 1 Axes>"
      ]
     },
     "metadata": {},
     "output_type": "display_data"
    }
   ],
   "source": [
    "# Group by date and sentiment\n",
    "\n",
    "df.groupby(df['date'].dt.to_period('M'))['Sentiment'].value_counts().unstack().plot(kind='bar', stacked=True, figsize=(12,6)) \n",
    "plt.title(\"Monthly Sentiment Trends\")\n",
    "plt.xlabel(\"Month\")\n",
    "plt.ylabel(\"Number of Emails\")\n",
    "plt.legend(title=\"Sentiment\")\n",
    "plt.show()"
   ]
  },
  {
   "cell_type": "markdown",
   "id": "95a05f31-4d84-4d6f-9c3d-86bcaed4755f",
   "metadata": {},
   "source": [
    "###  EDA Insight: Sentiment Over Time\n",
    "\n",
    "This time-series chart shows how sentiment changes across days/months.\n",
    "\n",
    "Spikes in negative sentiment may indicate stressful periods (e.g., deadlines, org changes), which is useful when identifying high-risk months or teams.\n",
    "\n",
    "This trend is key for building features for our regression model later.\n"
   ]
  },
  {
   "cell_type": "markdown",
   "id": "ac05c74a-fd9c-4155-925b-39c3a9ff1ef3",
   "metadata": {},
   "source": [
    "### Exploring Patterns and Anomalies\n",
    "\n",
    "This section identifies departments or individuals with unusually high negative or positive sentiment, revealing hotspots of satisfaction or disengagement.\n"
   ]
  },
  {
   "cell_type": "markdown",
   "id": "9b7c6b12-7f25-4b34-b05b-d71af2f4129e",
   "metadata": {},
   "source": [
    "**Top Senders of Negative Emails**"
   ]
  },
  {
   "cell_type": "code",
   "execution_count": 29,
   "id": "24dcd18f-4b90-4075-81cc-1bbf38781252",
   "metadata": {},
   "outputs": [
    {
     "data": {
      "image/png": "[encoded data removed]",
      "text/plain": [
       "<Figure size 640x480 with 1 Axes>"
      ]
     },
     "metadata": {},
     "output_type": "display_data"
    }
   ],
   "source": [
    "# Top Senders of Negative Emails\n",
    "\n",
    "top_negative = df[df['Sentiment'] == 'NEGATIVE']['from'].value_counts().head(10)\n",
    "top_negative.plot(kind='barh', color='red')\n",
    "plt.title(\"Top 10 Negative Email Senders\")\n",
    "plt.xlabel(\"Email Count\")\n",
    "plt.ylabel(\"Sender\")\n",
    "plt.show()\n"
   ]
  },
  {
   "cell_type": "markdown",
   "id": "31b39485-a157-4410-bbae-a2cb103caf99",
   "metadata": {},
   "source": [
    "**Top Senders of positive Emails**"
   ]
  },
  {
   "cell_type": "code",
   "execution_count": 31,
   "id": "53e139a3-d736-4e35-9a6b-8c219e0d62af",
   "metadata": {},
   "outputs": [
    {
     "data": {
      "image/png": "[encoded data removed]",
      "text/plain": [
       "<Figure size 640x480 with 1 Axes>"
      ]
     },
     "metadata": {},
     "output_type": "display_data"
    }
   ],
   "source": [
    "# Top Senders of positive Emails\n",
    "\n",
    "top_positive = df[df['Sentiment'] == 'POSITIVE']['from'].value_counts().head(10)\n",
    "top_positive.plot(kind='barh', color='red')\n",
    "plt.title(\"Top 10 Positive Email Senders\")\n",
    "plt.xlabel(\"Email Count\")\n",
    "plt.ylabel(\"Sender\")\n",
    "plt.show()\n"
   ]
  },
  {
   "cell_type": "markdown",
   "id": "15cdfdf4-4264-4755-8231-df6a24bd1a0b",
   "metadata": {},
   "source": [
    "##  Task 3: Employee Score Calculation"
   ]
  },
  {
   "cell_type": "markdown",
   "id": "e82aae1a-d25a-4c60-a4d6-07b17003126c",
   "metadata": {},
   "source": [
    "**Create Sentiment Score Column**"
   ]
  },
  {
   "cell_type": "code",
   "execution_count": 46,
   "id": "a7db5678-a3f3-438a-b0c1-29a23a6a5f9a",
   "metadata": {},
   "outputs": [],
   "source": [
    "# Now map sentiment to score\n",
    "df['score'] = df['Sentiment'].map({\n",
    "    'Positive': 1,\n",
    "    'Neutral': 0,\n",
    "    'Negative': -1\n",
    "})\n"
   ]
  },
  {
   "cell_type": "markdown",
   "id": "4cb11064-87aa-444b-be69-273318e4dcfa",
   "metadata": {},
   "source": [
    "**Convert Date & Extract Month**"
   ]
  },
  {
   "cell_type": "code",
   "execution_count": 52,
   "id": "88fa1c9b-b2d7-4110-baa6-c8399fca4968",
   "metadata": {},
   "outputs": [],
   "source": [
    "# Ensure 'date' column is in datetime format\n",
    "df['date'] = pd.to_datetime(df['date'])\n",
    "\n",
    "# Extract month (Period format: YYYY-MM)\n",
    "df['month'] = df['date'].dt.to_period('M')\n"
   ]
  },
  {
   "cell_type": "markdown",
   "id": "98f9dbe1-13c9-446c-9feb-9c7f7e631f9e",
   "metadata": {},
   "source": [
    "**Calculate Monthly Sentiment Score per Employee**"
   ]
  },
  {
   "cell_type": "code",
   "execution_count": 134,
   "id": "9fa1d607-3908-4c08-b031-820606c9eb19",
   "metadata": {},
   "outputs": [],
   "source": [
    "monthly_scores = df.groupby(['from', 'date'])['score'].sum().reset_index()\n"
   ]
  },
  {
   "cell_type": "code",
   "execution_count": 99,
   "id": "6bc505ae-c5be-4d9a-a07e-2cebff1ec236",
   "metadata": {},
   "outputs": [
    {
     "data": {
      "text/plain": [
       "Sentiment\n",
       "POSITIVE    1144\n",
       "NEUTRAL      817\n",
       "NEGATIVE     230\n",
       "Name: count, dtype: int64"
      ]
     },
     "execution_count": 99,
     "metadata": {},
     "output_type": "execute_result"
    }
   ],
   "source": [
    "df['Sentiment'].value_counts()\n"
   ]
  },
  {
   "cell_type": "code",
   "execution_count": 100,
   "id": "20f7dc57-e797-4a7d-ae2c-463b531d83f4",
   "metadata": {},
   "outputs": [
    {
     "data": {
      "text/plain": [
       "score\n",
       " 1    1144\n",
       " 0     817\n",
       "-1     230\n",
       "Name: count, dtype: int64"
      ]
     },
     "execution_count": 100,
     "metadata": {},
     "output_type": "execute_result"
    }
   ],
   "source": [
    "df['score'].value_counts()\n"
   ]
  },
  {
   "cell_type": "markdown",
   "id": "09a6cd08-8704-4391-ba14-54fc3749aec3",
   "metadata": {},
   "source": [
    "## Task 4: Employee Ranking"
   ]
  },
  {
   "cell_type": "markdown",
   "id": "1415b026-ef57-4e73-bfc1-1b3faab15ff5",
   "metadata": {},
   "source": [
    "**Sort and Rank Monthly Scores**"
   ]
  },
  {
   "cell_type": "code",
   "execution_count": 126,
   "id": "696bb3c5-4ece-48aa-b9f0-f704a5aed045",
   "metadata": {},
   "outputs": [],
   "source": [
    "# TOP 3 POSITIVE (score > 0)\n",
    "positive_only = monthly_scores[monthly_scores['score'] > 0].copy()\n",
    "\n",
    "top3_positive = (\n",
    "    positive_only.sort_values(by=['date', 'score', 'from'], ascending=[True, False, True])\n",
    "    .groupby('date')\n",
    "    .head(3)\n",
    ")\n",
    "\n",
    "# TOP 3 NEGATIVE (score < 0)\n",
    "negative_only = monthly_scores[monthly_scores['score'] < 0].copy()\n",
    "\n",
    "top3_negative = (\n",
    "    negative_only.sort_values(by=['date', 'score', 'from'], ascending=[True, True, True])\n",
    "    .groupby('date')\n",
    "    .head(3)\n",
    ")\n"
   ]
  },
  {
   "cell_type": "code",
   "execution_count": 129,
   "id": "74ad6d76-d721-4d18-8255-0391ac4bc4e1",
   "metadata": {},
   "outputs": [
    {
     "name": "stdout",
     "output_type": "stream",
     "text": [
      "Top 3 Positive Employees (Overall):\n"
     ]
    },
    {
     "data": {
      "text/html": [
       "<div>\n",
       "<style scoped>\n",
       "    .dataframe tbody tr th:only-of-type {\n",
       "        vertical-align: middle;\n",
       "    }\n",
       "\n",
       "    .dataframe tbody tr th {\n",
       "        vertical-align: top;\n",
       "    }\n",
       "\n",
       "    .dataframe thead th {\n",
       "        text-align: right;\n",
       "    }\n",
       "</style>\n",
       "<table border=\"1\" class=\"dataframe\">\n",
       "  <thead>\n",
       "    <tr style=\"text-align: right;\">\n",
       "      <th></th>\n",
       "      <th>from</th>\n",
       "      <th>score</th>\n",
       "    </tr>\n",
       "  </thead>\n",
       "  <tbody>\n",
       "    <tr>\n",
       "      <th>6</th>\n",
       "      <td>lydia.delgado@enron.com</td>\n",
       "      <td>123</td>\n",
       "    </tr>\n",
       "    <tr>\n",
       "      <th>3</th>\n",
       "      <td>john.arnold@enron.com</td>\n",
       "      <td>110</td>\n",
       "    </tr>\n",
       "    <tr>\n",
       "      <th>9</th>\n",
       "      <td>sally.beck@enron.com</td>\n",
       "      <td>96</td>\n",
       "    </tr>\n",
       "  </tbody>\n",
       "</table>\n",
       "</div>"
      ],
      "text/plain": [
       "                      from  score\n",
       "6  lydia.delgado@enron.com    123\n",
       "3    john.arnold@enron.com    110\n",
       "9     sally.beck@enron.com     96"
      ]
     },
     "metadata": {},
     "output_type": "display_data"
    }
   ],
   "source": [
    "# Sum all scores by employee\n",
    "overall_scores = monthly_scores.groupby(\"from\")[\"score\"].sum().reset_index()\n",
    "\n",
    "# Top 3 most positive\n",
    "top3_positive = overall_scores.sort_values(by=\"score\", ascending=False).head(3)\n",
    "print(\"Top 3 Positive Employees (Overall):\")\n",
    "display(top3_positive)\n"
   ]
  },
  {
   "cell_type": "code",
   "execution_count": 130,
   "id": "8a222e1c-b4ae-4c7e-a2c0-b311360ea2cd",
   "metadata": {},
   "outputs": [
    {
     "name": "stdout",
     "output_type": "stream",
     "text": [
      "Top 3 Negative Employees (Overall):\n"
     ]
    },
    {
     "data": {
      "text/html": [
       "<div>\n",
       "<style scoped>\n",
       "    .dataframe tbody tr th:only-of-type {\n",
       "        vertical-align: middle;\n",
       "    }\n",
       "\n",
       "    .dataframe tbody tr th {\n",
       "        vertical-align: top;\n",
       "    }\n",
       "\n",
       "    .dataframe thead th {\n",
       "        text-align: right;\n",
       "    }\n",
       "</style>\n",
       "<table border=\"1\" class=\"dataframe\">\n",
       "  <thead>\n",
       "    <tr style=\"text-align: right;\">\n",
       "      <th></th>\n",
       "      <th>from</th>\n",
       "      <th>score</th>\n",
       "    </tr>\n",
       "  </thead>\n",
       "  <tbody>\n",
       "    <tr>\n",
       "      <th>8</th>\n",
       "      <td>rhonda.denton@enron.com</td>\n",
       "      <td>59</td>\n",
       "    </tr>\n",
       "    <tr>\n",
       "      <th>5</th>\n",
       "      <td>kayne.coulter@enron.com</td>\n",
       "      <td>75</td>\n",
       "    </tr>\n",
       "    <tr>\n",
       "      <th>0</th>\n",
       "      <td>bobette.riner@ipgdirect.com</td>\n",
       "      <td>88</td>\n",
       "    </tr>\n",
       "  </tbody>\n",
       "</table>\n",
       "</div>"
      ],
      "text/plain": [
       "                          from  score\n",
       "8      rhonda.denton@enron.com     59\n",
       "5      kayne.coulter@enron.com     75\n",
       "0  bobette.riner@ipgdirect.com     88"
      ]
     },
     "metadata": {},
     "output_type": "display_data"
    }
   ],
   "source": [
    "# Top 3 most negative\n",
    "top3_negative = overall_scores.sort_values(by=\"score\").head(3)\n",
    "print(\"Top 3 Negative Employees (Overall):\")\n",
    "display(top3_negative)\n"
   ]
  },
  {
   "cell_type": "markdown",
   "id": "3f3955d6-622d-463d-ae32-014dae547d0a",
   "metadata": {},
   "source": [
    "**Top 3 Positive Employees – Bar Chart**"
   ]
  },
  {
   "cell_type": "markdown",
   "id": "e14aa2c3-59c5-4ff9-9d97-3bd4f65ae45e",
   "metadata": {},
   "source": [
    "###  Task 4: Employee Ranking\n",
    "\n",
    "We filtered employees with non-zero scores:\n",
    "- Positive rankings include only scores > 0\n",
    "- Negative rankings include only scores < 0\n",
    "\n",
    "For each month, we selected:\n",
    "- Top 3 most positively engaged employees\n",
    "- Top 3 with most negative sentiment (possible concern)\n",
    "\n",
    "This ranking is useful to highlight top performers and potential disengaged employees.\n"
   ]
  },
  {
   "cell_type": "markdown",
   "id": "eee8d81a-f4cc-4c60-a33a-43fe132212b5",
   "metadata": {},
   "source": [
    "## Flight Risk Detection (Task 5)\n"
   ]
  },
  {
   "cell_type": "markdown",
   "id": "cfd39434-1656-4c2e-9ac7-7fa00afe42a9",
   "metadata": {},
   "source": [
    "**Filter Only Negative Messages**"
   ]
  },
  {
   "cell_type": "code",
   "execution_count": 140,
   "id": "54e33798-ea63-42ce-8441-ae542a846ce6",
   "metadata": {},
   "outputs": [
    {
     "data": {
      "text/html": [
       "<div>\n",
       "<style scoped>\n",
       "    .dataframe tbody tr th:only-of-type {\n",
       "        vertical-align: middle;\n",
       "    }\n",
       "\n",
       "    .dataframe tbody tr th {\n",
       "        vertical-align: top;\n",
       "    }\n",
       "\n",
       "    .dataframe thead th {\n",
       "        text-align: right;\n",
       "    }\n",
       "</style>\n",
       "<table border=\"1\" class=\"dataframe\">\n",
       "  <thead>\n",
       "    <tr style=\"text-align: right;\">\n",
       "      <th></th>\n",
       "      <th>Subject</th>\n",
       "      <th>body</th>\n",
       "      <th>date</th>\n",
       "      <th>from</th>\n",
       "      <th>Sentiment</th>\n",
       "      <th>score</th>\n",
       "    </tr>\n",
       "  </thead>\n",
       "  <tbody>\n",
       "    <tr>\n",
       "      <th>0</th>\n",
       "      <td>EnronOptions Update!</td>\n",
       "      <td>EnronOptions Announcement\\n\\n\\nWe have updated...</td>\n",
       "      <td>5/10/2010</td>\n",
       "      <td>sally.beck@enron.com</td>\n",
       "      <td>POSITIVE</td>\n",
       "      <td>1</td>\n",
       "    </tr>\n",
       "    <tr>\n",
       "      <th>1</th>\n",
       "      <td>(No Subject)</td>\n",
       "      <td>Marc,\\n\\nUnfortunately, today is not going to ...</td>\n",
       "      <td>7/29/2010</td>\n",
       "      <td>eric.bass@enron.com</td>\n",
       "      <td>NEGATIVE</td>\n",
       "      <td>-1</td>\n",
       "    </tr>\n",
       "    <tr>\n",
       "      <th>2</th>\n",
       "      <td>Phone Screen  Interview - Shannon L. Burnham</td>\n",
       "      <td>When: Wednesday, June 06, 2001 10:00 AM-11:00 ...</td>\n",
       "      <td>7/25/2011</td>\n",
       "      <td>sally.beck@enron.com</td>\n",
       "      <td>NEUTRAL</td>\n",
       "      <td>0</td>\n",
       "    </tr>\n",
       "    <tr>\n",
       "      <th>3</th>\n",
       "      <td>RE: My new work email</td>\n",
       "      <td>we were thinking papasitos (we can meet somewh...</td>\n",
       "      <td>3/25/2010</td>\n",
       "      <td>johnny.palmer@enron.com</td>\n",
       "      <td>NEGATIVE</td>\n",
       "      <td>-1</td>\n",
       "    </tr>\n",
       "    <tr>\n",
       "      <th>4</th>\n",
       "      <td>Bet</td>\n",
       "      <td>Since you never gave me the $20 for the last t...</td>\n",
       "      <td>5/21/2011</td>\n",
       "      <td>lydia.delgado@enron.com</td>\n",
       "      <td>NEUTRAL</td>\n",
       "      <td>0</td>\n",
       "    </tr>\n",
       "  </tbody>\n",
       "</table>\n",
       "</div>"
      ],
      "text/plain": [
       "                                        Subject  \\\n",
       "0                          EnronOptions Update!   \n",
       "1                                  (No Subject)   \n",
       "2  Phone Screen  Interview - Shannon L. Burnham   \n",
       "3                         RE: My new work email   \n",
       "4                                           Bet   \n",
       "\n",
       "                                                body       date  \\\n",
       "0  EnronOptions Announcement\\n\\n\\nWe have updated...  5/10/2010   \n",
       "1  Marc,\\n\\nUnfortunately, today is not going to ...  7/29/2010   \n",
       "2  When: Wednesday, June 06, 2001 10:00 AM-11:00 ...  7/25/2011   \n",
       "3  we were thinking papasitos (we can meet somewh...  3/25/2010   \n",
       "4  Since you never gave me the $20 for the last t...  5/21/2011   \n",
       "\n",
       "                      from Sentiment  score  \n",
       "0     sally.beck@enron.com  POSITIVE      1  \n",
       "1      eric.bass@enron.com  NEGATIVE     -1  \n",
       "2     sally.beck@enron.com   NEUTRAL      0  \n",
       "3  johnny.palmer@enron.com  NEGATIVE     -1  \n",
       "4  lydia.delgado@enron.com   NEUTRAL      0  "
      ]
     },
     "execution_count": 140,
     "metadata": {},
     "output_type": "execute_result"
    }
   ],
   "source": [
    "# Filter the dataset for only negative messages\n",
    "\n",
    "negative_msgs = df[df[\"Sentiment\"] == \"Negative\"].copy()\n",
    "negative_msgs = negative_msgs.sort_values(by=[\"from\", \"date\", \"score\"])\n",
    "negative_msgs.head()\n",
    "df.head(5)\n"
   ]
  },
  {
   "cell_type": "markdown",
   "id": "1e4540e5-e9a1-4a0f-9f91-019ba9327816",
   "metadata": {},
   "source": [
    "**Count Negative Messages in 30-Day Rolling Windows**"
   ]
  },
  {
   "cell_type": "code",
   "execution_count": 162,
   "id": "961ce2f8-a470-474c-9e4f-182ecc95c2a0",
   "metadata": {},
   "outputs": [],
   "source": [
    "# Initialize an empty set to collect risky employees\n",
    "flight_risk_employees = set()\n",
    "\n",
    "# Loop through each employee and check for 30-day windows\n",
    "for emp_id in negative_msgs[\"from\"].unique():\n",
    "    emp_data = negative_msgs[negative_msgs[\"from\"] == emp_id]\n",
    "    emp_data = emp_data.sort_values(\"date\")\n",
    "\n",
    "    for i in range(len(emp_data)):\n",
    "        start_date = emp_data.iloc[i][\"date\"]\n",
    "        end_date = start_date + pd.Timedelta(days=30)\n",
    "        count = emp_data[(emp_data[\"date\"] >= start_date) & (emp_data[\"date\"] <= end_date)].shape[0]\n",
    "\n",
    "        if count >= 4:\n",
    "            flight_risk_employees.add('from')\n",
    "            break  \n",
    "            \n"
   ]
  },
  {
   "cell_type": "markdown",
   "id": "f71b0880-127a-4d53-a012-d8ad75f629f5",
   "metadata": {},
   "source": [
    "This loop goes employee-by-employee and checks every 30-day window starting from each message. If they send 4 or more negative messages in any such window, they are marked as a flight risk."
   ]
  },
  {
   "cell_type": "code",
   "execution_count": 163,
   "id": "239bb693-e1c6-4a09-a0e9-418b441385e7",
   "metadata": {},
   "outputs": [
    {
     "name": "stdout",
     "output_type": "stream",
     "text": [
      "Flight Risk Employees:\n",
      "set()\n"
     ]
    }
   ],
   "source": [
    "# Display result\n",
    "print(\"Flight Risk Employees:\")\n",
    "print(flight_risk_employees)\n"
   ]
  },
  {
   "cell_type": "code",
   "execution_count": 158,
   "id": "afb6a428-e4cc-4801-bb2d-13e9021a6ec9",
   "metadata": {},
   "outputs": [
    {
     "data": {
      "text/plain": [
       "Sentiment\n",
       "POSITIVE    1144\n",
       "NEUTRAL      817\n",
       "NEGATIVE     230\n",
       "Name: count, dtype: int64"
      ]
     },
     "execution_count": 158,
     "metadata": {},
     "output_type": "execute_result"
    }
   ],
   "source": [
    "df['Sentiment'].value_counts()\n"
   ]
  },
  {
   "cell_type": "code",
   "execution_count": 164,
   "id": "48a61d9f-cb73-4fa0-a8c5-27b12cc7d762",
   "metadata": {},
   "outputs": [
    {
     "data": {
      "text/plain": [
       "Series([], Name: count, dtype: int64)"
      ]
     },
     "execution_count": 164,
     "metadata": {},
     "output_type": "execute_result"
    }
   ],
   "source": [
    "df[df['Sentiment'] == 'Negative']['from'].value_counts()\n"
   ]
  },
  {
   "cell_type": "code",
   "execution_count": 165,
   "id": "ebbfef17-305c-496e-be7e-dcfe9287e56a",
   "metadata": {},
   "outputs": [
    {
     "name": "stdout",
     "output_type": "stream",
     "text": [
      "No flight risks found in this dataset.\n"
     ]
    }
   ],
   "source": [
    "if not flight_risk_employees:\n",
    "    print(\"No flight risks found in this dataset.\")\n"
   ]
  },
  {
   "cell_type": "markdown",
   "id": "ba55ef45-6418-477e-b31a-2f4a80ac3a7c",
   "metadata": {},
   "source": [
    "#Task 5: Flight Risk Identification\n",
    "\n",
    "# Objective:\n",
    "To identify employees who may be at risk of leaving the company.  \n",
    "**Flight Risk Definition:**  \n",
    "Any employee who has sent **4 or more negative messages within a rolling 30-day window**, regardless of the calendar month.\n",
    "\n",
    "---\n",
    "\n",
    "# Steps Taken:\n",
    "\n",
    "1. Filtered the dataset to include only negative messages.\n",
    "2. Sorted the messages by `employee_id` and `date`.\n",
    "3. Applied a rolling 30-day window check for each employee to count how many negative messages they sent.\n",
    "4. If the count in any window was 4 or more, the employee was flagged as a **flight risk**.\n",
    "5. Collected flagged employee IDs into a set for uniqueness.\n",
    "\n",
    "---\n",
    "\n",
    "# Result:\n",
    "\n",
    "After performing the analysis, we found:\n",
    "\n",
    "```python\n",
    "No flight risks found in this dataset.\n"
   ]
  },
  {
   "cell_type": "markdown",
   "id": "2008e7b7-bc6c-493f-b167-e9d5947c8c6f",
   "metadata": {},
   "source": [
    "##  Task 6: Predictive Modeling – Sentiment Trend Forecasting\n",
    "\n",
    "###  Objective:\n",
    "To develop a **Linear Regression** model that analyzes sentiment trends over time and predicts future sentiment scores for employees.\n",
    "\n",
    "This helps us understand how employee sentiment is evolving and can aid in proactively identifying potential issues or improvements in engagement.\n",
    "\n",
    "---\n",
    "\n",
    "### Steps Performed:\n",
    "\n",
    "1. **Selected features** from monthly aggregated data (e.g., month number, sentiment score).\n",
    "2. **Split the data** into training and testing sets.\n",
    "3. **Built and trained** a Linear Regression model.\n",
    "4. **Evaluated the model** using R² score.\n",
    "5. **Interpreted the output** to draw insights.\n",
    "\n",
    "---\n"
   ]
  },
  {
   "cell_type": "code",
   "execution_count": 186,
   "id": "758774c7-b42a-4847-a5cb-92f77acce1b0",
   "metadata": {},
   "outputs": [
    {
     "name": "stdout",
     "output_type": "stream",
     "text": [
      "Index(['from', 'date', 'score'], dtype='object')\n"
     ]
    }
   ],
   "source": [
    "print(model_data.columns)\n"
   ]
  },
  {
   "cell_type": "code",
   "execution_count": 203,
   "id": "aa5d4669-aefc-4438-8338-0249e3a02498",
   "metadata": {},
   "outputs": [],
   "source": [
    "# create month coloum\n",
    "df['date'] = pd.to_datetime(df['date'])\n"
   ]
  },
  {
   "cell_type": "code",
   "execution_count": 189,
   "id": "05d0fd75-4973-4152-982a-60ddc82c5b06",
   "metadata": {},
   "outputs": [],
   "source": [
    "df['month'] = df['date'].dt.to_period('M')\n",
    "\n"
   ]
  },
  {
   "cell_type": "code",
   "execution_count": 193,
   "id": "5492bbd0-4639-4087-8675-74aa9f577ddb",
   "metadata": {},
   "outputs": [],
   "source": [
    "model_data['month_num'] = model_data['month'].dt.month\n",
    "\n"
   ]
  },
  {
   "cell_type": "code",
   "execution_count": 195,
   "id": "671e0f2a-13ce-4e55-88ac-a1469d8a5706",
   "metadata": {},
   "outputs": [
    {
     "name": "stdout",
     "output_type": "stream",
     "text": [
      "Index(['from', 'month', 'score', 'month_num'], dtype='object')\n"
     ]
    }
   ],
   "source": [
    "print(model_data.columns)\n"
   ]
  },
  {
   "cell_type": "markdown",
   "id": "377a48c0-401b-483c-ac83-efcb8b2e49ee",
   "metadata": {},
   "source": [
    "## Explanation:\n",
    "We’re using `month_num` as a feature to see how sentiment scores change over time. \n",
    "This allows us to forecast sentiment trends across months.\n"
   ]
  },
  {
   "cell_type": "markdown",
   "id": "71c6c1ea-e149-44cc-912e-bb02f5143fd0",
   "metadata": {},
   "source": [
    "**Target Variable**"
   ]
  },
  {
   "cell_type": "code",
   "execution_count": 197,
   "id": "f7c81630-27ef-4087-86b3-6825a6c49451",
   "metadata": {},
   "outputs": [],
   "source": [
    "# X = features | y = target\n",
    "X = model_data[[\"month_num\"]]\n",
    "y = model_data[\"score\"]\n"
   ]
  },
  {
   "cell_type": "code",
   "execution_count": 198,
   "id": "d20d0c42-af0f-48a4-9c44-28f4012b2fc7",
   "metadata": {},
   "outputs": [],
   "source": [
    "# split data \n",
    "from sklearn.model_selection import train_test_split\n",
    "\n",
    "# Split into training and testing sets (80% train / 20% test)\n",
    "X_train, X_test, y_train, y_test = train_test_split(X, y, test_size=0.2, random_state=42)\n"
   ]
  },
  {
   "cell_type": "markdown",
   "id": "241a879b-d3c7-4f3a-8085-14210c7222f1",
   "metadata": {},
   "source": [
    "**Train the Linear Regression Mode**"
   ]
  },
  {
   "cell_type": "code",
   "execution_count": 200,
   "id": "51601d11-3564-4880-806d-240141559539",
   "metadata": {},
   "outputs": [
    {
     "data": {
      "text/html": [
       "<style>#sk-container-id-1 {\n",
       "  /* Definition of color scheme common for light and dark mode */\n",
       "  --sklearn-color-text: black;\n",
       "  --sklearn-color-line: gray;\n",
       "  /* Definition of color scheme for unfitted estimators */\n",
       "  --sklearn-color-unfitted-level-0: #fff5e6;\n",
       "  --sklearn-color-unfitted-level-1: #f6e4d2;\n",
       "  --sklearn-color-unfitted-level-2: #ffe0b3;\n",
       "  --sklearn-color-unfitted-level-3: chocolate;\n",
       "  /* Definition of color scheme for fitted estimators */\n",
       "  --sklearn-color-fitted-level-0: #f0f8ff;\n",
       "  --sklearn-color-fitted-level-1: #d4ebff;\n",
       "  --sklearn-color-fitted-level-2: #b3dbfd;\n",
       "  --sklearn-color-fitted-level-3: cornflowerblue;\n",
       "\n",
       "  /* Specific color for light theme */\n",
       "  --sklearn-color-text-on-default-background: var(--sg-text-color, var(--theme-code-foreground, var(--jp-content-font-color1, black)));\n",
       "  --sklearn-color-background: var(--sg-background-color, var(--theme-background, var(--jp-layout-color0, white)));\n",
       "  --sklearn-color-border-box: var(--sg-text-color, var(--theme-code-foreground, var(--jp-content-font-color1, black)));\n",
       "  --sklearn-color-icon: #696969;\n",
       "\n",
       "  @media (prefers-color-scheme: dark) {\n",
       "    /* Redefinition of color scheme for dark theme */\n",
       "    --sklearn-color-text-on-default-background: var(--sg-text-color, var(--theme-code-foreground, var(--jp-content-font-color1, white)));\n",
       "    --sklearn-color-background: var(--sg-background-color, var(--theme-background, var(--jp-layout-color0, #111)));\n",
       "    --sklearn-color-border-box: var(--sg-text-color, var(--theme-code-foreground, var(--jp-content-font-color1, white)));\n",
       "    --sklearn-color-icon: #878787;\n",
       "  }\n",
       "}\n",
       "\n",
       "#sk-container-id-1 {\n",
       "  color: var(--sklearn-color-text);\n",
       "}\n",
       "\n",
       "#sk-container-id-1 pre {\n",
       "  padding: 0;\n",
       "}\n",
       "\n",
       "#sk-container-id-1 input.sk-hidden--visually {\n",
       "  border: 0;\n",
       "  clip: rect(1px 1px 1px 1px);\n",
       "  clip: rect(1px, 1px, 1px, 1px);\n",
       "  height: 1px;\n",
       "  margin: -1px;\n",
       "  overflow: hidden;\n",
       "  padding: 0;\n",
       "  position: absolute;\n",
       "  width: 1px;\n",
       "}\n",
       "\n",
       "#sk-container-id-1 div.sk-dashed-wrapped {\n",
       "  border: 1px dashed var(--sklearn-color-line);\n",
       "  margin: 0 0.4em 0.5em 0.4em;\n",
       "  box-sizing: border-box;\n",
       "  padding-bottom: 0.4em;\n",
       "  background-color: var(--sklearn-color-background);\n",
       "}\n",
       "\n",
       "#sk-container-id-1 div.sk-container {\n",
       "  /* jupyter's `normalize.less` sets `[hidden] { display: none; }`\n",
       "     but bootstrap.min.css set `[hidden] { display: none !important; }`\n",
       "     so we also need the `!important` here to be able to override the\n",
       "     default hidden behavior on the sphinx rendered scikit-learn.org.\n",
       "     See: https://github.com/scikit-learn/scikit-learn/issues/21755 */\n",
       "  display: inline-block !important;\n",
       "  position: relative;\n",
       "}\n",
       "\n",
       "#sk-container-id-1 div.sk-text-repr-fallback {\n",
       "  display: none;\n",
       "}\n",
       "\n",
       "div.sk-parallel-item,\n",
       "div.sk-serial,\n",
       "div.sk-item {\n",
       "  /* draw centered vertical line to link estimators */\n",
       "  background-image: linear-gradient(var(--sklearn-color-text-on-default-background), var(--sklearn-color-text-on-default-background));\n",
       "  background-size: 2px 100%;\n",
       "  background-repeat: no-repeat;\n",
       "  background-position: center center;\n",
       "}\n",
       "\n",
       "/* Parallel-specific style estimator block */\n",
       "\n",
       "#sk-container-id-1 div.sk-parallel-item::after {\n",
       "  content: \"\";\n",
       "  width: 100%;\n",
       "  border-bottom: 2px solid var(--sklearn-color-text-on-default-background);\n",
       "  flex-grow: 1;\n",
       "}\n",
       "\n",
       "#sk-container-id-1 div.sk-parallel {\n",
       "  display: flex;\n",
       "  align-items: stretch;\n",
       "  justify-content: center;\n",
       "  background-color: var(--sklearn-color-background);\n",
       "  position: relative;\n",
       "}\n",
       "\n",
       "#sk-container-id-1 div.sk-parallel-item {\n",
       "  display: flex;\n",
       "  flex-direction: column;\n",
       "}\n",
       "\n",
       "#sk-container-id-1 div.sk-parallel-item:first-child::after {\n",
       "  align-self: flex-end;\n",
       "  width: 50%;\n",
       "}\n",
       "\n",
       "#sk-container-id-1 div.sk-parallel-item:last-child::after {\n",
       "  align-self: flex-start;\n",
       "  width: 50%;\n",
       "}\n",
       "\n",
       "#sk-container-id-1 div.sk-parallel-item:only-child::after {\n",
       "  width: 0;\n",
       "}\n",
       "\n",
       "/* Serial-specific style estimator block */\n",
       "\n",
       "#sk-container-id-1 div.sk-serial {\n",
       "  display: flex;\n",
       "  flex-direction: column;\n",
       "  align-items: center;\n",
       "  background-color: var(--sklearn-color-background);\n",
       "  padding-right: 1em;\n",
       "  padding-left: 1em;\n",
       "}\n",
       "\n",
       "\n",
       "/* Toggleable style: style used for estimator/Pipeline/ColumnTransformer box that is\n",
       "clickable and can be expanded/collapsed.\n",
       "- Pipeline and ColumnTransformer use this feature and define the default style\n",
       "- Estimators will overwrite some part of the style using the `sk-estimator` class\n",
       "*/\n",
       "\n",
       "/* Pipeline and ColumnTransformer style (default) */\n",
       "\n",
       "#sk-container-id-1 div.sk-toggleable {\n",
       "  /* Default theme specific background. It is overwritten whether we have a\n",
       "  specific estimator or a Pipeline/ColumnTransformer */\n",
       "  background-color: var(--sklearn-color-background);\n",
       "}\n",
       "\n",
       "/* Toggleable label */\n",
       "#sk-container-id-1 label.sk-toggleable__label {\n",
       "  cursor: pointer;\n",
       "  display: block;\n",
       "  width: 100%;\n",
       "  margin-bottom: 0;\n",
       "  padding: 0.5em;\n",
       "  box-sizing: border-box;\n",
       "  text-align: center;\n",
       "}\n",
       "\n",
       "#sk-container-id-1 label.sk-toggleable__label-arrow:before {\n",
       "  /* Arrow on the left of the label */\n",
       "  content: \"▸\";\n",
       "  float: left;\n",
       "  margin-right: 0.25em;\n",
       "  color: var(--sklearn-color-icon);\n",
       "}\n",
       "\n",
       "#sk-container-id-1 label.sk-toggleable__label-arrow:hover:before {\n",
       "  color: var(--sklearn-color-text);\n",
       "}\n",
       "\n",
       "/* Toggleable content - dropdown */\n",
       "\n",
       "#sk-container-id-1 div.sk-toggleable__content {\n",
       "  max-height: 0;\n",
       "  max-width: 0;\n",
       "  overflow: hidden;\n",
       "  text-align: left;\n",
       "  /* unfitted */\n",
       "  background-color: var(--sklearn-color-unfitted-level-0);\n",
       "}\n",
       "\n",
       "#sk-container-id-1 div.sk-toggleable__content.fitted {\n",
       "  /* fitted */\n",
       "  background-color: var(--sklearn-color-fitted-level-0);\n",
       "}\n",
       "\n",
       "#sk-container-id-1 div.sk-toggleable__content pre {\n",
       "  margin: 0.2em;\n",
       "  border-radius: 0.25em;\n",
       "  color: var(--sklearn-color-text);\n",
       "  /* unfitted */\n",
       "  background-color: var(--sklearn-color-unfitted-level-0);\n",
       "}\n",
       "\n",
       "#sk-container-id-1 div.sk-toggleable__content.fitted pre {\n",
       "  /* unfitted */\n",
       "  background-color: var(--sklearn-color-fitted-level-0);\n",
       "}\n",
       "\n",
       "#sk-container-id-1 input.sk-toggleable__control:checked~div.sk-toggleable__content {\n",
       "  /* Expand drop-down */\n",
       "  max-height: 200px;\n",
       "  max-width: 100%;\n",
       "  overflow: auto;\n",
       "}\n",
       "\n",
       "#sk-container-id-1 input.sk-toggleable__control:checked~label.sk-toggleable__label-arrow:before {\n",
       "  content: \"▾\";\n",
       "}\n",
       "\n",
       "/* Pipeline/ColumnTransformer-specific style */\n",
       "\n",
       "#sk-container-id-1 div.sk-label input.sk-toggleable__control:checked~label.sk-toggleable__label {\n",
       "  color: var(--sklearn-color-text);\n",
       "  background-color: var(--sklearn-color-unfitted-level-2);\n",
       "}\n",
       "\n",
       "#sk-container-id-1 div.sk-label.fitted input.sk-toggleable__control:checked~label.sk-toggleable__label {\n",
       "  background-color: var(--sklearn-color-fitted-level-2);\n",
       "}\n",
       "\n",
       "/* Estimator-specific style */\n",
       "\n",
       "/* Colorize estimator box */\n",
       "#sk-container-id-1 div.sk-estimator input.sk-toggleable__control:checked~label.sk-toggleable__label {\n",
       "  /* unfitted */\n",
       "  background-color: var(--sklearn-color-unfitted-level-2);\n",
       "}\n",
       "\n",
       "#sk-container-id-1 div.sk-estimator.fitted input.sk-toggleable__control:checked~label.sk-toggleable__label {\n",
       "  /* fitted */\n",
       "  background-color: var(--sklearn-color-fitted-level-2);\n",
       "}\n",
       "\n",
       "#sk-container-id-1 div.sk-label label.sk-toggleable__label,\n",
       "#sk-container-id-1 div.sk-label label {\n",
       "  /* The background is the default theme color */\n",
       "  color: var(--sklearn-color-text-on-default-background);\n",
       "}\n",
       "\n",
       "/* On hover, darken the color of the background */\n",
       "#sk-container-id-1 div.sk-label:hover label.sk-toggleable__label {\n",
       "  color: var(--sklearn-color-text);\n",
       "  background-color: var(--sklearn-color-unfitted-level-2);\n",
       "}\n",
       "\n",
       "/* Label box, darken color on hover, fitted */\n",
       "#sk-container-id-1 div.sk-label.fitted:hover label.sk-toggleable__label.fitted {\n",
       "  color: var(--sklearn-color-text);\n",
       "  background-color: var(--sklearn-color-fitted-level-2);\n",
       "}\n",
       "\n",
       "/* Estimator label */\n",
       "\n",
       "#sk-container-id-1 div.sk-label label {\n",
       "  font-family: monospace;\n",
       "  font-weight: bold;\n",
       "  display: inline-block;\n",
       "  line-height: 1.2em;\n",
       "}\n",
       "\n",
       "#sk-container-id-1 div.sk-label-container {\n",
       "  text-align: center;\n",
       "}\n",
       "\n",
       "/* Estimator-specific */\n",
       "#sk-container-id-1 div.sk-estimator {\n",
       "  font-family: monospace;\n",
       "  border: 1px dotted var(--sklearn-color-border-box);\n",
       "  border-radius: 0.25em;\n",
       "  box-sizing: border-box;\n",
       "  margin-bottom: 0.5em;\n",
       "  /* unfitted */\n",
       "  background-color: var(--sklearn-color-unfitted-level-0);\n",
       "}\n",
       "\n",
       "#sk-container-id-1 div.sk-estimator.fitted {\n",
       "  /* fitted */\n",
       "  background-color: var(--sklearn-color-fitted-level-0);\n",
       "}\n",
       "\n",
       "/* on hover */\n",
       "#sk-container-id-1 div.sk-estimator:hover {\n",
       "  /* unfitted */\n",
       "  background-color: var(--sklearn-color-unfitted-level-2);\n",
       "}\n",
       "\n",
       "#sk-container-id-1 div.sk-estimator.fitted:hover {\n",
       "  /* fitted */\n",
       "  background-color: var(--sklearn-color-fitted-level-2);\n",
       "}\n",
       "\n",
       "/* Specification for estimator info (e.g. \"i\" and \"?\") */\n",
       "\n",
       "/* Common style for \"i\" and \"?\" */\n",
       "\n",
       ".sk-estimator-doc-link,\n",
       "a:link.sk-estimator-doc-link,\n",
       "a:visited.sk-estimator-doc-link {\n",
       "  float: right;\n",
       "  font-size: smaller;\n",
       "  line-height: 1em;\n",
       "  font-family: monospace;\n",
       "  background-color: var(--sklearn-color-background);\n",
       "  border-radius: 1em;\n",
       "  height: 1em;\n",
       "  width: 1em;\n",
       "  text-decoration: none !important;\n",
       "  margin-left: 1ex;\n",
       "  /* unfitted */\n",
       "  border: var(--sklearn-color-unfitted-level-1) 1pt solid;\n",
       "  color: var(--sklearn-color-unfitted-level-1);\n",
       "}\n",
       "\n",
       ".sk-estimator-doc-link.fitted,\n",
       "a:link.sk-estimator-doc-link.fitted,\n",
       "a:visited.sk-estimator-doc-link.fitted {\n",
       "  /* fitted */\n",
       "  border: var(--sklearn-color-fitted-level-1) 1pt solid;\n",
       "  color: var(--sklearn-color-fitted-level-1);\n",
       "}\n",
       "\n",
       "/* On hover */\n",
       "div.sk-estimator:hover .sk-estimator-doc-link:hover,\n",
       ".sk-estimator-doc-link:hover,\n",
       "div.sk-label-container:hover .sk-estimator-doc-link:hover,\n",
       ".sk-estimator-doc-link:hover {\n",
       "  /* unfitted */\n",
       "  background-color: var(--sklearn-color-unfitted-level-3);\n",
       "  color: var(--sklearn-color-background);\n",
       "  text-decoration: none;\n",
       "}\n",
       "\n",
       "div.sk-estimator.fitted:hover .sk-estimator-doc-link.fitted:hover,\n",
       ".sk-estimator-doc-link.fitted:hover,\n",
       "div.sk-label-container:hover .sk-estimator-doc-link.fitted:hover,\n",
       ".sk-estimator-doc-link.fitted:hover {\n",
       "  /* fitted */\n",
       "  background-color: var(--sklearn-color-fitted-level-3);\n",
       "  color: var(--sklearn-color-background);\n",
       "  text-decoration: none;\n",
       "}\n",
       "\n",
       "/* Span, style for the box shown on hovering the info icon */\n",
       ".sk-estimator-doc-link span {\n",
       "  display: none;\n",
       "  z-index: 9999;\n",
       "  position: relative;\n",
       "  font-weight: normal;\n",
       "  right: .2ex;\n",
       "  padding: .5ex;\n",
       "  margin: .5ex;\n",
       "  width: min-content;\n",
       "  min-width: 20ex;\n",
       "  max-width: 50ex;\n",
       "  color: var(--sklearn-color-text);\n",
       "  box-shadow: 2pt 2pt 4pt #999;\n",
       "  /* unfitted */\n",
       "  background: var(--sklearn-color-unfitted-level-0);\n",
       "  border: .5pt solid var(--sklearn-color-unfitted-level-3);\n",
       "}\n",
       "\n",
       ".sk-estimator-doc-link.fitted span {\n",
       "  /* fitted */\n",
       "  background: var(--sklearn-color-fitted-level-0);\n",
       "  border: var(--sklearn-color-fitted-level-3);\n",
       "}\n",
       "\n",
       ".sk-estimator-doc-link:hover span {\n",
       "  display: block;\n",
       "}\n",
       "\n",
       "/* \"?\"-specific style due to the `<a>` HTML tag */\n",
       "\n",
       "#sk-container-id-1 a.estimator_doc_link {\n",
       "  float: right;\n",
       "  font-size: 1rem;\n",
       "  line-height: 1em;\n",
       "  font-family: monospace;\n",
       "  background-color: var(--sklearn-color-background);\n",
       "  border-radius: 1rem;\n",
       "  height: 1rem;\n",
       "  width: 1rem;\n",
       "  text-decoration: none;\n",
       "  /* unfitted */\n",
       "  color: var(--sklearn-color-unfitted-level-1);\n",
       "  border: var(--sklearn-color-unfitted-level-1) 1pt solid;\n",
       "}\n",
       "\n",
       "#sk-container-id-1 a.estimator_doc_link.fitted {\n",
       "  /* fitted */\n",
       "  border: var(--sklearn-color-fitted-level-1) 1pt solid;\n",
       "  color: var(--sklearn-color-fitted-level-1);\n",
       "}\n",
       "\n",
       "/* On hover */\n",
       "#sk-container-id-1 a.estimator_doc_link:hover {\n",
       "  /* unfitted */\n",
       "  background-color: var(--sklearn-color-unfitted-level-3);\n",
       "  color: var(--sklearn-color-background);\n",
       "  text-decoration: none;\n",
       "}\n",
       "\n",
       "#sk-container-id-1 a.estimator_doc_link.fitted:hover {\n",
       "  /* fitted */\n",
       "  background-color: var(--sklearn-color-fitted-level-3);\n",
       "}\n",
       "</style><div id=\"sk-container-id-1\" class=\"sk-top-container\"><div class=\"sk-text-repr-fallback\"><pre>LinearRegression()</pre><b>In a Jupyter environment, please rerun this cell to show the HTML representation or trust the notebook. <br />On GitHub, the HTML representation is unable to render, please try loading this page with nbviewer.org.</b></div><div class=\"sk-container\" hidden><div class=\"sk-item\"><div class=\"sk-estimator fitted sk-toggleable\"><input class=\"sk-toggleable__control sk-hidden--visually\" id=\"sk-estimator-id-1\" type=\"checkbox\" checked><label for=\"sk-estimator-id-1\" class=\"sk-toggleable__label fitted sk-toggleable__label-arrow fitted\">&nbsp;&nbsp;LinearRegression<a class=\"sk-estimator-doc-link fitted\" rel=\"noreferrer\" target=\"_blank\" href=\"https://scikit-learn.org/1.5/modules/generated/sklearn.linear_model.LinearRegression.html\">?<span>Documentation for LinearRegression</span></a><span class=\"sk-estimator-doc-link fitted\">i<span>Fitted</span></span></label><div class=\"sk-toggleable__content fitted\"><pre>LinearRegression()</pre></div> </div></div></div></div>"
      ],
      "text/plain": [
       "LinearRegression()"
      ]
     },
     "execution_count": 200,
     "metadata": {},
     "output_type": "execute_result"
    }
   ],
   "source": [
    "from sklearn.linear_model import LinearRegression\n",
    "\n",
    "# Initialize and fit the model\n",
    "model = LinearRegression()\n",
    "model.fit(X_train, y_train)\n"
   ]
  },
  {
   "cell_type": "markdown",
   "id": "c4eb76cd-f51b-419c-9c39-64d1ba1f104d",
   "metadata": {},
   "source": [
    "**Evaluate Model Performance**"
   ]
  },
  {
   "cell_type": "code",
   "execution_count": 201,
   "id": "55adaec1-631b-4e9a-bd3b-7ba67ae9bba9",
   "metadata": {},
   "outputs": [
    {
     "name": "stdout",
     "output_type": "stream",
     "text": [
      "R² Score on Test Data: 0.0\n"
     ]
    }
   ],
   "source": [
    "# Check R^2 score on test set\n",
    "r2_score = model.score(X_test, y_test)\n",
    "print(\"R² Score on Test Data:\", round(r2_score, 3))\n"
   ]
  },
  {
   "cell_type": "markdown",
   "id": "c2395497-075a-449d-b116-0fe700c30066",
   "metadata": {},
   "source": [
    "###  Result:\n",
    "The R² score indicates how well the model explains the variability of sentiment scores.\n",
    "- A score near **1.0** means excellent prediction\n",
    "- A score near **0.0** means poor predictive value\n"
   ]
  },
  {
   "cell_type": "markdown",
   "id": "51994915-e11e-44b9-9290-239c88c91402",
   "metadata": {},
   "source": [
    "**Plot Predictions vs Actuals**"
   ]
  },
  {
   "cell_type": "code",
   "execution_count": 202,
   "id": "8e5cbaaf-1ae6-4e8e-bccc-011683afe7ca",
   "metadata": {},
   "outputs": [
    {
     "data": {
      "image/png": "[encoded data removed]",
      "text/plain": [
       "<Figure size 640x480 with 1 Axes>"
      ]
     },
     "metadata": {},
     "output_type": "display_data"
    }
   ],
   "source": [
    "import matplotlib.pyplot as plt\n",
    "\n",
    "# Predict on test set\n",
    "y_pred = model.predict(X_test)\n",
    "\n",
    "# Plot actual vs predicted\n",
    "plt.scatter(X_test, y_test, color='blue', label='Actual')\n",
    "plt.scatter(X_test, y_pred, color='red', label='Predicted')\n",
    "plt.xlabel(\"Month\")\n",
    "plt.ylabel(\"Sentiment Score\")\n",
    "plt.title(\"Actual vs Predicted Sentiment Scores\")\n",
    "plt.legend()\n",
    "plt.grid(True)\n",
    "plt.show()\n"
   ]
  },
  {
   "cell_type": "markdown",
   "id": "aba5fd6c-1d47-4126-89cd-49b4b2717527",
   "metadata": {},
   "source": [
    "###  Insight:\n",
    "This plot shows how well our regression model is able to predict sentiment scores based on time.  \n",
    "Red dots close to blue ones indicate better accuracy.\n"
   ]
  },
  {
   "cell_type": "markdown",
   "id": "02391606-06be-45cc-9944-51cbb104ebe1",
   "metadata": {},
   "source": [
    "###  Conclusion:\n",
    "- The model demonstrates how sentiment scores change across months.\n",
    "- It can be extended by adding more features such as message volume, word count, etc.\n",
    "- While basic, this regression gives a starting point for **forecasting employee engagement trends**.\n"
   ]
  },
  {
   "cell_type": "markdown",
   "id": "270b3b6c-1b54-48e7-be1c-1ea1e758a5f3",
   "metadata": {},
   "source": []
  }
 ],
 "metadata": {
  "kernelspec": {
   "display_name": "Python 3 (ipykernel)",
   "language": "python",
   "name": "python3"
  },
  "language_info": {
   "codemirror_mode": {
    "name": "ipython",
    "version": 3
   },
   "file_extension": ".py",
   "mimetype": "text/x-python",
   "name": "python",
   "nbconvert_exporter": "python",
   "pygments_lexer": "ipython3",
   "version": "3.12.7"
  }
 },
 "nbformat": 4,
 "nbformat_minor": 5
}
