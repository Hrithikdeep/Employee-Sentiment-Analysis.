{
 "cells": [
  {
   "cell_type": "markdown",
   "id": "ea59767a",
   "metadata": {},
   "source": [
    "# 🧠 Employee Sentiment Analysis – Final LLM Assessment Project"
   ]
  },
  {
   "cell_type": "markdown",
   "id": "c3f3150e",
   "metadata": {},
   "source": [
    "## 1. Sentiment Labeling\n",
    "\n",
    "Classify each employee message as Positive, Neutral, or Negative using TextBlob."
   ]
  },
  {
   "cell_type": "code",
   "execution_count": null,
   "id": "7edccb9c",
   "metadata": {},
   "outputs": [],
   "source": [
    "from textblob import TextBlob\n",
    "import pandas as pd\n",
    "\n",
    "df = pd.read_csv('test.csv')\n",
    "df['date'] = pd.to_datetime(df['date'])\n",
    "\n",
    "def get_sentiment(text):\n",
    "    polarity = TextBlob(str(text)).sentiment.polarity\n",
    "    if polarity > 0.1:\n",
    "        return 'Positive'\n",
    "    elif polarity < -0.1:\n",
    "        return 'Negative'\n",
    "    else:\n",
    "        return 'Neutral'\n",
    "\n",
    "df['sentiment'] = df['message'].apply(get_sentiment)\n",
    "df[['employee_id', 'message', 'sentiment']].head()"
   ]
  },
  {
   "cell_type": "markdown",
   "id": "897aafb5",
   "metadata": {},
   "source": [
    "## 2. Exploratory Data Analysis (EDA)\n",
    "\n",
    "Explore sentiment distribution."
   ]
  },
  {
   "cell_type": "code",
   "execution_count": null,
   "id": "3cfef831",
   "metadata": {},
   "outputs": [],
   "source": [
    "import seaborn as sns\n",
    "import matplotlib.pyplot as plt\n",
    "\n",
    "print(df.info())\n",
    "print(df.describe(include='all'))\n",
    "\n",
    "sns.countplot(x='sentiment', data=df)\n",
    "plt.title(\"Sentiment Distribution\")\n",
    "plt.show()"
   ]
  },
  {
   "cell_type": "markdown",
   "id": "c329ad8d",
   "metadata": {},
   "source": [
    "## 3. Monthly Sentiment Scoring\n",
    "\n",
    "Assign numeric scores and calculate employee sentiment per month."
   ]
  },
  {
   "cell_type": "code",
   "execution_count": null,
   "id": "25dc86ec",
   "metadata": {},
   "outputs": [],
   "source": [
    "df['score'] = df['sentiment'].map({'Positive': 1, 'Negative': -1, 'Neutral': 0})\n",
    "df['month'] = df['date'].dt.to_period('M')\n",
    "monthly_scores = df.groupby(['employee_id', 'month'])['score'].sum().reset_index()\n",
    "monthly_scores.head()"
   ]
  },
  {
   "cell_type": "markdown",
   "id": "6ab35ec8",
   "metadata": {},
   "source": [
    "## 4. Employee Ranking\n",
    "\n",
    "Identify top 3 positive and negative employees overall."
   ]
  },
  {
   "cell_type": "code",
   "execution_count": null,
   "id": "64b2a38a",
   "metadata": {},
   "outputs": [],
   "source": [
    "overall_scores = monthly_scores.groupby('employee_id')['score'].sum().reset_index()\n",
    "top3_positive = overall_scores.sort_values(by='score', ascending=False).head(3)\n",
    "top3_negative = overall_scores.sort_values(by='score').head(3)\n",
    "\n",
    "print(\"Top 3 Positive Employees:\")\n",
    "display(top3_positive)\n",
    "\n",
    "print(\"Top 3 Negative Employees:\")\n",
    "display(top3_negative)\n",
    "\n",
    "sns.barplot(x='employee_id', y='score', data=top3_positive, palette='Greens_r')\n",
    "plt.title('Top 3 Positive Employees')\n",
    "plt.show()\n",
    "\n",
    "sns.barplot(x='employee_id', y='score', data=top3_negative, palette='Reds')\n",
    "plt.title('Top 3 Negative Employees')\n",
    "plt.show()"
   ]
  },
  {
   "cell_type": "markdown",
   "id": "2cca6126",
   "metadata": {},
   "source": [
    "## 5. Flight Risk Detection\n",
    "\n",
    "Flag employees with 4+ negative messages in any rolling 30-day window."
   ]
  },
  {
   "cell_type": "code",
   "execution_count": null,
   "id": "0b1b8996",
   "metadata": {},
   "outputs": [],
   "source": [
    "flight_risk_employees = set()\n",
    "negative_msgs = df[df['sentiment'] == 'Negative'].copy()\n",
    "negative_msgs = negative_msgs.sort_values(by=['employee_id', 'date'])\n",
    "\n",
    "for emp_id in negative_msgs['employee_id'].unique():\n",
    "    emp_data = negative_msgs[negative_msgs['employee_id'] == emp_id]\n",
    "    for i in range(len(emp_data)):\n",
    "        start = emp_data.iloc[i]['date']\n",
    "        end = start + pd.Timedelta(days=30)\n",
    "        count = emp_data[(emp_data['date'] >= start) & (emp_data['date'] <= end)].shape[0]\n",
    "        if count >= 4:\n",
    "            flight_risk_employees.add(emp_id)\n",
    "            break\n",
    "\n",
    "if flight_risk_employees:\n",
    "    print(\"Flight Risk Employees:\", flight_risk_employees)\n",
    "else:\n",
    "    print(\"No flight risks found in this dataset.\")"
   ]
  },
  {
   "cell_type": "markdown",
   "id": "5b597431",
   "metadata": {},
   "source": [
    "## 6. Predictive Modeling\n",
    "\n",
    "Build a linear regression model to predict sentiment scores based on time."
   ]
  },
  {
   "cell_type": "code",
   "execution_count": null,
   "id": "13799061",
   "metadata": {},
   "outputs": [],
   "source": [
    "from sklearn.linear_model import LinearRegression\n",
    "from sklearn.model_selection import train_test_split\n",
    "\n",
    "model_data = df[['employee_id', 'date', 'score']].copy()\n",
    "model_data['month'] = model_data['date'].dt.to_period('M')\n",
    "model_data['month_num'] = model_data['month'].dt.month\n",
    "\n",
    "X = model_data[['month_num']]\n",
    "y = model_data['score']\n",
    "\n",
    "X_train, X_test, y_train, y_test = train_test_split(X, y, test_size=0.2, random_state=42)\n",
    "\n",
    "model = LinearRegression()\n",
    "model.fit(X_train, y_train)\n",
    "\n",
    "r2_score = model.score(X_test, y_test)\n",
    "print(\"Model R² Score:\", round(r2_score, 3))\n",
    "\n",
    "y_pred = model.predict(X_test)\n",
    "plt.scatter(X_test, y_test, color='blue', label='Actual')\n",
    "plt.scatter(X_test, y_pred, color='red', label='Predicted')\n",
    "plt.title(\"Actual vs Predicted Sentiment Scores\")\n",
    "plt.xlabel(\"Month Number\")\n",
    "plt.ylabel(\"Sentiment Score\")\n",
    "plt.legend()\n",
    "plt.grid(True)\n",
    "plt.show()"
   ]
  }
 ],
 "metadata": {},
 "nbformat": 4,
 "nbformat_minor": 5
}
